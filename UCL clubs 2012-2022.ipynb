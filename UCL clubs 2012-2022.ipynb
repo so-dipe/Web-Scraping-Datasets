{
  "nbformat": 4,
  "nbformat_minor": 0,
  "metadata": {
    "colab": {
      "provenance": [],
      "authorship_tag": "ABX9TyPIgfeNceWH1LBFAxaO91QU",
      "include_colab_link": true
    },
    "kernelspec": {
      "name": "python3",
      "display_name": "Python 3"
    },
    "language_info": {
      "name": "python"
    }
  },
  "cells": [
    {
      "cell_type": "markdown",
      "metadata": {
        "id": "view-in-github",
        "colab_type": "text"
      },
      "source": [
        "<a href=\"https://colab.research.google.com/github/so-dipe/Web-Scraping-Datasets/blob/main/UCL%20clubs%202012-2022.ipynb\" target=\"_parent\"><img src=\"https://colab.research.google.com/assets/colab-badge.svg\" alt=\"Open In Colab\"/></a>"
      ]
    },
    {
      "cell_type": "code",
      "execution_count": 3,
      "metadata": {
        "id": "ygSwKQp85N7j"
      },
      "outputs": [],
      "source": [
        "import requests\n",
        "from bs4 import BeautifulSoup\n",
        "import pandas as pd"
      ]
    },
    {
      "cell_type": "code",
      "source": [
        "r = requests.get('https://www.uefa.com/uefachampionsleague/history/seasons/2022/clubs/')\n",
        "soup = BeautifulSoup(r.content)"
      ],
      "metadata": {
        "id": "HyV0WN_E65mR"
      },
      "execution_count": 14,
      "outputs": []
    },
    {
      "cell_type": "code",
      "source": [
        "clubs = soup.findAll(class_='team team-is-club')\n",
        "for club in clubs:\n",
        "  print(club.text.strip())"
      ],
      "metadata": {
        "id": "7Tex5Ueu68rf"
      },
      "execution_count": null,
      "outputs": []
    },
    {
      "cell_type": "code",
      "source": [
        "def get_clubs(link):\n",
        "  stage_ls = []\n",
        "  club_ls = []\n",
        "  country_ls = []\n",
        "  r = requests.get(link)\n",
        "  soup = BeautifulSoup(r.content)\n",
        "  fieldsets = soup.findAll('fieldset')\n",
        "  \n",
        "  for fieldset in fieldsets:\n",
        "    legend = fieldset.find('legend').text\n",
        "    teams = fieldset.findAll(class_='team team-is-club')\n",
        "    for team in teams:\n",
        "      club_name = team.find(attrs={'slot':'primary'}).text\n",
        "      country_code = team.find(attrs={'slot':'secondary'}).text[1:-1]\n",
        "      stage_ls.append(legend)\n",
        "      club_ls.append(club_name)\n",
        "      country_ls.append(country_code)\n",
        "      \n",
        "  info_dict = {'stage':stage_ls, 'club':club_ls, 'country':country_ls}\n",
        "  df = pd.DataFrame(info_dict)\n",
        "  return df\n"
      ],
      "metadata": {
        "id": "5y-5EUyT9eEj"
      },
      "execution_count": 60,
      "outputs": []
    },
    {
      "cell_type": "code",
      "source": [
        "get_clubs('https://www.uefa.com/uefachampionsleague/history/seasons/2012/clubs/')"
      ],
      "metadata": {
        "id": "wIhmLUkuA2yu"
      },
      "execution_count": null,
      "outputs": []
    },
    {
      "cell_type": "code",
      "source": [
        "def get_seasons(start, stop):\n",
        "  df = pd.DataFrame()\n",
        "  url = 'https://www.uefa.com/uefachampionsleague/history/seasons/' # 2012/clubs/\n",
        "  start = int(start)\n",
        "  stop = int(stop)\n",
        "  year_range = range(start, stop + 1)\n",
        "  for year in year_range:\n",
        "    year_url = url + str(year) + '/clubs/'\n",
        "    year_df = get_clubs(year_url)\n",
        "    year_df['year'] = year\n",
        "    df = pd.concat([df, year_df])\n",
        "  return df"
      ],
      "metadata": {
        "id": "dDwLwKUD-oCS"
      },
      "execution_count": 91,
      "outputs": []
    },
    {
      "cell_type": "code",
      "source": [
        "get_seasons(2012, 2022).to_csv('UCL clubs 2012-2022.csv', index=False)"
      ],
      "metadata": {
        "id": "eg0vHKTAFhRR"
      },
      "execution_count": 93,
      "outputs": []
    },
    {
      "cell_type": "code",
      "source": [],
      "metadata": {
        "id": "jZYnLqhoGqGV"
      },
      "execution_count": null,
      "outputs": []
    }
  ]
}